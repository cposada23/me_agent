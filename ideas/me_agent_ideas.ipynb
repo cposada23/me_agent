{
 "cells": [
  {
   "cell_type": "code",
   "execution_count": null,
   "id": "add9e012",
   "metadata": {},
   "outputs": [],
   "source": [
    "print(\"Hello from me-agent!\")"
   ]
  },
  {
   "cell_type": "code",
   "execution_count": 19,
   "id": "99b9a275",
   "metadata": {},
   "outputs": [],
   "source": [
    "\"\"\"\n",
    "Why is this useful?\n",
    "If you are running a script or notebook from a subdirectory (like ideas/),\n",
    "but your code (like the tools package) is in the parent directory, Python won’t find it by default.\n",
    "Adding the parent directory to sys.path allows you to import modules/packages from there.\n",
    "\"\"\"\n",
    "import sys\n",
    "import os\n",
    "sys.path.append(os.path.abspath(\"..\"))\n"
   ]
  },
  {
   "cell_type": "code",
   "execution_count": 14,
   "id": "e754aff1",
   "metadata": {},
   "outputs": [
    {
     "name": "stdout",
     "output_type": "stream",
     "text": [
      "/Users/camiloposada/code/ai/ai_agents/master_ai_agents_in_30_days/codelabs/me_agent/ideas\n"
     ]
    }
   ],
   "source": [
    "\"\"\"Working directory\"\"\"\n",
    "import os\n",
    "print(os.getcwd())"
   ]
  },
  {
   "cell_type": "code",
   "execution_count": 18,
   "id": "4a33ec95",
   "metadata": {},
   "outputs": [
    {
     "name": "stdout",
     "output_type": "stream",
     "text": [
      "200\n"
     ]
    }
   ],
   "source": [
    "\"\"\"Push message \"\"\"\n",
    "\n",
    "from tools.Pusher import Pusher\n",
    "\n",
    "\n",
    "pusher = Pusher()\n",
    "res = pusher.push_notification(\"test from notebook\")\n",
    "print(res[\"status_code\"])"
   ]
  },
  {
   "cell_type": "markdown",
   "id": "907a838f",
   "metadata": {},
   "source": [
    "# Doing lab 1"
   ]
  },
  {
   "cell_type": "markdown",
   "id": "d0884218",
   "metadata": {},
   "source": [
    "## uv commands\n",
    "-  `uv init <folder_name>`\n",
    "-  `cd <folder_name>`\n",
    "-  `uv venv --python <python version>`"
   ]
  }
 ],
 "metadata": {
  "kernelspec": {
   "display_name": ".venv",
   "language": "python",
   "name": "python3"
  },
  "language_info": {
   "codemirror_mode": {
    "name": "ipython",
    "version": 3
   },
   "file_extension": ".py",
   "mimetype": "text/x-python",
   "name": "python",
   "nbconvert_exporter": "python",
   "pygments_lexer": "ipython3",
   "version": "3.12.11"
  }
 },
 "nbformat": 4,
 "nbformat_minor": 5
}
